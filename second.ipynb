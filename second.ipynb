{
  "nbformat": 4,
  "nbformat_minor": 0,
  "metadata": {
    "colab": {
      "provenance": []
    },
    "kernelspec": {
      "name": "python3",
      "display_name": "Python 3"
    },
    "language_info": {
      "name": "python"
    }
  },
  "cells": [
    {
      "cell_type": "code",
      "source": [
        "%reload_ext cython"
      ],
      "metadata": {
        "id": "JzjkHFlS0Yg1"
      },
      "execution_count": 1,
      "outputs": []
    },
    {
      "cell_type": "code",
      "source": [
        "%%cython\n",
        "cdef class Fate2:\n",
        "    cdef long long a, b, c, r  \n",
        "\n",
        "    def __init__(self, int seed = 1234567):\n",
        "        self.a = 524_287\n",
        "        self.b = 37\n",
        "        self.c = 2_147_483_647\n",
        "        self.r = seed\n",
        "\n",
        "    def get_next(self):\n",
        "        self.r = (self.r * self.a + self.b) % self.c\n",
        "        return self.r"
      ],
      "metadata": {
        "id": "DhXfh5wAorvV"
      },
      "execution_count": 2,
      "outputs": []
    },
    {
      "cell_type": "code",
      "source": [
        "class Fate3:\n",
        "    def __init__(self, seed: int = 1234567):\n",
        "        self.a: int = 524_287\n",
        "        self.b: int = 37\n",
        "        self.c: int = 2_147_483_647\n",
        "        self.r: int = seed\n",
        "\n",
        "    def get_next(self)->int:\n",
        "        self.r = (self.r * self.a + self.b) % self.c\n",
        "        return self.r"
      ],
      "metadata": {
        "id": "XX-SAqJaouET"
      },
      "execution_count": 3,
      "outputs": []
    },
    {
      "cell_type": "code",
      "source": [
        "from numba import int64\n",
        "from numba.experimental import jitclass\n",
        "from numba import jit\n",
        "\n",
        "@jitclass([\n",
        "  ('seed', int64),\n",
        "  ('a', int64), ('b', int64), ('c', int64), ('r', int64)\n",
        "])\n",
        "class Fate4:\n",
        "    # class members are not supported yet by numba\n",
        "    def __init__(self, seed: int = 1234567):\n",
        "        self.a = 524_287        # Mersenne prime\n",
        "        self.b = 37\n",
        "        self.c = 2_147_483_647  # Mersenne prive, found by Euler\n",
        "        self.r = seed\n",
        "\n",
        "    def get_next(self)->int64:\n",
        "        self.r = (self.r * self.a + self.b) % self.c\n",
        "        return self.r"
      ],
      "metadata": {
        "id": "G8TVeZ43oxIZ"
      },
      "execution_count": 4,
      "outputs": []
    },
    {
      "cell_type": "code",
      "source": [
        "%%cython\n",
        "class Fate1:\n",
        "    a: int = 524_287        # Mersenne prime\n",
        "    b: int = 37\n",
        "    c: int = 2_147_483_647  # Mersenne prive, found by Euler\n",
        "\n",
        "    def __init__(self, seed: int = 1234567):\n",
        "        self.r: int = seed\n",
        "\n",
        "    def get_next(self)->int:\n",
        "        self.r = (self.r * Fate1.a + Fate1.b) % Fate1.c\n",
        "        return self.r"
      ],
      "metadata": {
        "id": "e7a3Wlldoy4L"
      },
      "execution_count": 5,
      "outputs": []
    },
    {
      "cell_type": "code",
      "source": [
        "class Fate0:\n",
        "    a = 524_287        # Mersenne prime\n",
        "    b = 37\n",
        "    c = 2_147_483_647  # Mersenne prive, found by Euler\n",
        "\n",
        "    def __init__(self, seed: int = 1234567):\n",
        "        self.r = seed\n",
        "\n",
        "    def get_next(self):\n",
        "        self.r = (self.r * Fate0.a + Fate0.b) % Fate0.c\n",
        "        return self.r"
      ],
      "metadata": {
        "id": "ttB2J4Xco1Fn"
      },
      "execution_count": 6,
      "outputs": []
    },
    {
      "cell_type": "code",
      "source": [
        "import timeit\n",
        "\n",
        "def load(fate_class):\n",
        "    f = fate_class()\n",
        "    for _ in range(1_000_000):\n",
        "        r = f.get_next()\n",
        "    return r\n",
        "\n",
        "def test(fate_class):\n",
        "    f = fate_class()\n",
        "    for _ in range(1_000):\n",
        "        r = f.get_next()\n",
        "    return r\n",
        "\n",
        "for fc in [Fate0, Fate1, Fate2, Fate3, Fate4]:\n",
        "    print(fc, test(fc), timeit.timeit(lambda: load(fc), number=100) / 100)"
      ],
      "metadata": {
        "colab": {
          "base_uri": "https://localhost:8080/"
        },
        "id": "DN4Y5CbPo3C_",
        "outputId": "d6efdffa-8496-4f44-ac50-fbfc1c3aed62"
      },
      "execution_count": 7,
      "outputs": [
        {
          "output_type": "stream",
          "name": "stdout",
          "text": [
            "<class '__main__.Fate0'> 54276433 0.4838657485500002\n",
            "<class '_cython_magic_2ea1bb1b3c0f8153dad838c634010189.Fate1'> 54276433 0.4298303755800001\n",
            "<class '_cython_magic_4a6d35860a4626e0e02247dd819af559.Fate2'> 54276433 0.10105763215000024\n",
            "<class '__main__.Fate3'> 54276433 0.41546113848999994\n",
            "<class 'numba.experimental.jitclass.base.Fate4'> 54276433 1.0314834382200002\n"
          ]
        }
      ]
    },
    {
      "cell_type": "markdown",
      "source": [
        "По полученным после выполнения кода данным (которые показывают среднее время выполнения запроса на 1000 повторений) можно сделать вывод, что самым быстрым по времени выполнения запроса является класс Fate2, а самым медленным - класс Fate4. Классы Fate1 и Fate3 (а также Fate0) имеют примерно одинаковое время выполнения."
      ],
      "metadata": {
        "id": "K5udoe4rut6d"
      }
    }
  ]
}