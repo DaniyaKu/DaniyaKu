{
  "nbformat": 4,
  "nbformat_minor": 0,
  "metadata": {
    "colab": {
      "provenance": []
    },
    "kernelspec": {
      "name": "python3",
      "display_name": "Python 3"
    },
    "language_info": {
      "name": "python"
    }
  },
  "cells": [
    {
      "cell_type": "code",
      "source": [
        "%reload_ext cython"
      ],
      "metadata": {
        "id": "bpjhDR-TKx9j"
      },
      "execution_count": 3,
      "outputs": []
    },
    {
      "cell_type": "code",
      "source": [
        "class Fate:\n",
        "    a = 524_287        # Mersenne prime\n",
        "    b = 37\n",
        "    c = 2_147_483_647  # Mersenne prive, found by Euler\n",
        "\n",
        "    def __init__(self, seed: int = 1234567):\n",
        "        self.r = seed\n",
        "\n",
        "    def get_next(self):\n",
        "        self.r = (self.r * Fate.a + Fate.b) % Fate.c\n",
        "        return self.r"
      ],
      "metadata": {
        "id": "fqfFB32LLFiz"
      },
      "execution_count": 11,
      "outputs": []
    },
    {
      "cell_type": "code",
      "source": [
        "import timeit\n",
        "\n",
        "def load(fate_class):\n",
        "    f = fate_class()\n",
        "    for _ in range(1_000_000):\n",
        "        r = f.get_next()\n",
        "    return r\n",
        "\n",
        "def test(fate_class):\n",
        "    f = fate_class()\n",
        "    for _ in range(1_000):\n",
        "        r = f.get_next()\n",
        "    return r\n",
        "\n",
        "for fc in [Fate]:\n",
        "    print(fc, test(fc), timeit.timeit(lambda: load(fc), number=100) / 100)"
      ],
      "metadata": {
        "colab": {
          "base_uri": "https://localhost:8080/"
        },
        "id": "B6cEm0ZCLHuN",
        "outputId": "2f366e13-53b0-42aa-e195-3c4fc87d3633"
      },
      "execution_count": 12,
      "outputs": [
        {
          "output_type": "stream",
          "name": "stdout",
          "text": [
            "<class '__main__.Fate'> 54276433 0.4666010198799995\n"
          ]
        }
      ]
    }
  ]
}